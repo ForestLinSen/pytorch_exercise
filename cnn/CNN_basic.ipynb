{
 "cells": [
  {
   "cell_type": "code",
   "execution_count": 2,
   "metadata": {},
   "outputs": [],
   "source": [
    "import numpy as np\n",
    "import torch\n",
    "import torchvision"
   ]
  },
  {
   "cell_type": "code",
   "execution_count": 3,
   "metadata": {},
   "outputs": [],
   "source": [
    "# Prameters\n",
    "input_size = 28\n",
    "num_classes = 10\n",
    "num_epoch = 5\n",
    "batch_size = 64"
   ]
  },
  {
   "cell_type": "code",
   "execution_count": 21,
   "metadata": {},
   "outputs": [],
   "source": [
    "\n",
    "\n",
    "# Convolutional Layer 1\n",
    "\n",
    "layer1_in_channels = 1 # Gray picture\n",
    "layer1_out_channels = 10 # NUM of Filter\n",
    "\n",
    "# Convolutional Layer 2\n",
    "\n",
    "layer2_in_channels = layer1_out_channels\n",
    "layer2_out_channels = 32\n",
    "\n",
    "# Output size\n",
    "layer_1_out_size = ((28 - kernel_size + 2 * padding) / stride) + 1\n",
    "layer_1_out_size = layer_1_out_size / max_pool_size \n",
    "layer_2_out_size = ((layer_1_out_size - kernel_size + 2 * padding) / stride) + 1\n",
    "layer_2_out_size = layer_2_out_size / max_pool_size \n",
    "\n",
    "\n",
    "# Common parameter\n",
    "kernel_size = 5\n",
    "stride = 1\n",
    "padding = 2\n",
    "max_pool_size = 2"
   ]
  },
  {
   "cell_type": "code",
   "execution_count": 4,
   "metadata": {},
   "outputs": [],
   "source": [
    "# Load data\n",
    "\n",
    "train_data = torchvision.datasets.MNIST(root = './data', train = True, \n",
    "                                        transform = torchvision.transforms.ToTensor())\n",
    "test_data = torchvision.datasets.MNIST(root = './data', train = False,\n",
    "                                      transform = torchvision.transforms.ToTensor())\n",
    "\n",
    "# Data Loader\n",
    "\n",
    "train_loader = torch.utils.data.DataLoader(dataset = train_data, batch_size = batch_size, shuffle = True)\n",
    "test_loader = torch.utils.data.DataLoader(dataset = test_data, batch_size = batch_size, shuffle = False)"
   ]
  },
  {
   "cell_type": "code",
   "execution_count": 9,
   "metadata": {},
   "outputs": [],
   "source": [
    "# Create model\n",
    "\n",
    "class CNN(torch.nn.Module):\n",
    "    def __init__(self):\n",
    "        super(CNN, self).__init__()\n",
    "        self.conv1 = torch.nn.Sequential(torch.nn.Conv2d(in_channels = layer1_in_channels, \n",
    "                                                   out_channels = layer1_out_channels,\n",
    "                                                   kernel_size = kernel_size,\n",
    "                                                   stride = stride,\n",
    "                                                   padding = padding,), \n",
    "                                        torch.nn.ReLU(),\n",
    "                                        torch.nn.MaxPool2d(kernel_size = max_pool_size))\n",
    "        \n",
    "        self.conv2 = torch.nn.Sequential(torch.nn.Conv2d(in_channels = layer2_out_channels, \n",
    "                                                        out_channels = layer2_out_channels,\n",
    "                                                        kernel_size = kernel_size,\n",
    "                                                        stride = stride,\n",
    "                                                        padding = padding,),\n",
    "                                        torch.nn.ReLU(),\n",
    "                                        torch.nn.MaxPool2d(kernel_size = max_pool_size),)\n",
    "        self.out = nn.Linear(layer2_out_channels * layer_2_out_size * layer_2_out_size, 10)\n",
    "        \n",
    "    def forward(self, x):\n",
    "        x = \n",
    "        "
   ]
  },
  {
   "cell_type": "code",
   "execution_count": 24,
   "metadata": {},
   "outputs": [
    {
     "data": {
      "text/plain": [
       "1568.0"
      ]
     },
     "execution_count": 24,
     "metadata": {},
     "output_type": "execute_result"
    }
   ],
   "source": [
    "layer2_out_channels * layer_2_out_size * layer_2_out_size"
   ]
  },
  {
   "cell_type": "code",
   "execution_count": null,
   "metadata": {},
   "outputs": [],
   "source": []
  }
 ],
 "metadata": {
  "kernelspec": {
   "display_name": "Python 3",
   "language": "python",
   "name": "python3"
  },
  "language_info": {
   "codemirror_mode": {
    "name": "ipython",
    "version": 3
   },
   "file_extension": ".py",
   "mimetype": "text/x-python",
   "name": "python",
   "nbconvert_exporter": "python",
   "pygments_lexer": "ipython3",
   "version": "3.7.3"
  }
 },
 "nbformat": 4,
 "nbformat_minor": 4
}
