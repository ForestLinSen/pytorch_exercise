{
 "cells": [
  {
   "cell_type": "code",
   "execution_count": 45,
   "metadata": {},
   "outputs": [],
   "source": [
    "import numpy as np\n",
    "import pandas as pd\n",
    "import torch"
   ]
  },
  {
   "cell_type": "code",
   "execution_count": 46,
   "metadata": {},
   "outputs": [],
   "source": [
    "# Import data\n",
    "features = pd.read_csv('temps.csv')"
   ]
  },
  {
   "cell_type": "code",
   "execution_count": 47,
   "metadata": {},
   "outputs": [],
   "source": [
    "# Time data\n",
    "import datetime\n",
    "\n",
    "year = features['year']\n",
    "month = features['month']\n",
    "day = features['day']\n",
    "\n",
    "dates = [str(int(year)) + '-' + str(int(month)) + '-' + str(int(day)) \n",
    "         for year, month, day in zip(year, month, day)]\n",
    "dates = [datetime.datetime.strptime(date, '%Y-%m-%d') for date in dates]"
   ]
  },
  {
   "cell_type": "code",
   "execution_count": 48,
   "metadata": {},
   "outputs": [],
   "source": [
    "# OneHot\n",
    "features = pd.get_dummies(features)"
   ]
  },
  {
   "cell_type": "code",
   "execution_count": 49,
   "metadata": {},
   "outputs": [],
   "source": [
    "# Labels\n",
    "labels = np.array(features['actual'])\n",
    "features = features.drop('actual', axis = 1)"
   ]
  },
  {
   "cell_type": "code",
   "execution_count": 50,
   "metadata": {},
   "outputs": [],
   "source": [
    "# Standardization to np array\n",
    "from sklearn import preprocessing\n",
    "input_features = preprocessing.StandardScaler().fit_transform(features)"
   ]
  },
  {
   "cell_type": "code",
   "execution_count": 51,
   "metadata": {},
   "outputs": [],
   "source": [
    "# Parameters\n",
    "input_dim = input_features.shape[1]\n",
    "hidden_dim = 128\n",
    "output_dim = 1\n",
    "learning_rate = 0.01\n",
    "batch_size = 18"
   ]
  },
  {
   "cell_type": "code",
   "execution_count": 52,
   "metadata": {},
   "outputs": [],
   "source": [
    "# Layer\n",
    "my_nn = torch.nn.Sequential(torch.nn.Linear(input_dim, hidden_dim),\n",
    "                           torch.nn.Sigmoid(),\n",
    "                           torch.nn.Linear(hidden_dim, output_dim))"
   ]
  },
  {
   "cell_type": "code",
   "execution_count": 53,
   "metadata": {},
   "outputs": [],
   "source": [
    "# Optimizer and loss\n",
    "optimizer = torch.optim.Adam(my_nn.parameters(), lr = learning_rate)\n",
    "cost = torch.nn.MSELoss()"
   ]
  },
  {
   "cell_type": "code",
   "execution_count": 55,
   "metadata": {},
   "outputs": [
    {
     "name": "stdout",
     "output_type": "stream",
     "text": [
      "Iteration: 0, batch_loss: 481.16790771484375\n",
      "Iteration: 100, batch_loss: 30.970455169677734\n",
      "Iteration: 200, batch_loss: 31.797393798828125\n",
      "Iteration: 300, batch_loss: 39.1842041015625\n",
      "Iteration: 400, batch_loss: 30.62451171875\n",
      "Iteration: 500, batch_loss: 29.464881896972656\n",
      "Iteration: 600, batch_loss: 32.7364387512207\n",
      "Iteration: 700, batch_loss: 34.843231201171875\n",
      "Iteration: 800, batch_loss: 29.406415939331055\n",
      "Iteration: 900, batch_loss: 31.295780181884766\n"
     ]
    }
   ],
   "source": [
    "# Train model\n",
    "total_loss = []\n",
    "\n",
    "for i in range(1000):\n",
    "    batch_loss = []\n",
    "    for start in range(0, len(input_features), batch_size):\n",
    "        end = (start + batch_size) if (start + batch_size) < len(input_features) else len(input_features)\n",
    "        xx = torch.tensor(input_features[start: end], dtype = torch.float, requires_grad = True)\n",
    "        yy = torch.tensor(labels[start: end], dtype = torch.float, requires_grad = True)\n",
    "        prediction = my_nn(xx)\n",
    "        loss = cost(prediction, yy)\n",
    "        optimizer.zero_grad()\n",
    "        \n",
    "        # Backward propagation\n",
    "        loss.backward(retain_graph = True)\n",
    "        optimizer.step()\n",
    "        batch_loss.append(loss.data.numpy())\n",
    "    \n",
    "    if i%100==0:\n",
    "        total_loss.append(np.mean(batch_loss))\n",
    "        print('Iteration: {}, batch_loss: {}'.format(i, loss))"
   ]
  },
  {
   "cell_type": "code",
   "execution_count": 57,
   "metadata": {},
   "outputs": [],
   "source": [
    "x = torch.tensor(input_features, dtype = torch.float)\n",
    "test_predictions = my_nn(x).data.numpy()"
   ]
  },
  {
   "cell_type": "code",
   "execution_count": 59,
   "metadata": {},
   "outputs": [],
   "source": [
    "import matplotlib.pyplot as plt"
   ]
  },
  {
   "cell_type": "code",
   "execution_count": 69,
   "metadata": {},
   "outputs": [
    {
     "data": {
      "text/plain": [
       "[<matplotlib.lines.Line2D at 0x146d20e48>]"
      ]
     },
     "execution_count": 69,
     "metadata": {},
     "output_type": "execute_result"
    },
    {
     "data": {
      "image/png": "[encoded data removed]",
      "text/plain": [
       "<Figure size 432x288 with 1 Axes>"
      ]
     },
     "metadata": {
      "needs_background": "light"
     },
     "output_type": "display_data"
    }
   ],
   "source": [
    "plt.plot(dates, test_predictions, color = 'r')\n",
    "plt.plot(dates, labels)"
   ]
  },
  {
   "cell_type": "code",
   "execution_count": null,
   "metadata": {},
   "outputs": [],
   "source": []
  }
 ],
 "metadata": {
  "kernelspec": {
   "display_name": "Python 3",
   "language": "python",
   "name": "python3"
  },
  "language_info": {
   "codemirror_mode": {
    "name": "ipython",
    "version": 3
   },
   "file_extension": ".py",
   "mimetype": "text/x-python",
   "name": "python",
   "nbconvert_exporter": "python",
   "pygments_lexer": "ipython3",
   "version": "3.7.3"
  }
 },
 "nbformat": 4,
 "nbformat_minor": 4
}
